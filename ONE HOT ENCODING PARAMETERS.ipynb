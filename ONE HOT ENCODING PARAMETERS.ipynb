{
 "cells": [
  {
   "cell_type": "markdown",
   "id": "a82dff71",
   "metadata": {},
   "source": [
    "# PARAMETERS OF ONE HOT ENCODING"
   ]
  },
  {
   "cell_type": "markdown",
   "id": "cfc49d24",
   "metadata": {},
   "source": [
    "In data preprocessing for machine learning tasks, one common operation is converting categorical variables into a numerical \n",
    "format that machine learning algorithms can understand. The get_dummies function is a popular tool for doing this, and it's \n",
    "typically available in libraries like pandas in Python. It's used to create binary (0 or 1) columns for each category in a \n",
    "categorical variable, effectively one-hot encoding the data. Let's break down the parameters of the get_dummies function with \n",
    "practical examples:"
   ]
  },
  {
   "cell_type": "code",
   "execution_count": 1,
   "id": "7f871c1a",
   "metadata": {},
   "outputs": [
    {
     "name": "stdout",
     "output_type": "stream",
     "text": [
      "   Blue  Green  Red\n",
      "0     0      0    1\n",
      "1     0      1    0\n",
      "2     1      0    0\n",
      "3     0      0    1\n",
      "4     0      1    0\n"
     ]
    }
   ],
   "source": [
    "import pandas as pd\n",
    "\n",
    "# Sample DataFrame with a categorical column 'Color'\n",
    "data = {'Color': ['Red', 'Green', 'Blue', 'Red', 'Green']}\n",
    "df = pd.DataFrame(data)\n",
    "\n",
    "# Using get_dummies to one-hot encode 'Color'\n",
    "encoded_df = pd.get_dummies(df['Color'])\n",
    "\n",
    "print(encoded_df)\n"
   ]
  },
  {
   "cell_type": "markdown",
   "id": "4af2a8b6",
   "metadata": {},
   "source": [
    "In this example, we have a DataFrame df with a categorical column 'Color'. We'll use pd.get_dummies() to one-hot \n",
    "encode this column. Here are the key parameters:"
   ]
  },
  {
   "cell_type": "code",
   "execution_count": null,
   "id": "b2200fba",
   "metadata": {},
   "outputs": [],
   "source": [
    "\n"
   ]
  },
  {
   "cell_type": "markdown",
   "id": "2afe6adf",
   "metadata": {},
   "source": [
    "# PREFIX PARAMETER"
   ]
  },
  {
   "cell_type": "markdown",
   "id": "9fc9d4b2",
   "metadata": {},
   "source": [
    "prefix: It is used to add a prefix to the newly created dummy columns. This parameter is useful \n",
    "    for keeping track of which variable the dummy columns represent. By default, it's set to None."
   ]
  },
  {
   "cell_type": "code",
   "execution_count": 2,
   "id": "03a9c3d0",
   "metadata": {},
   "outputs": [],
   "source": [
    "encoded_df = pd.get_dummies(df['Color'], prefix=None)\n"
   ]
  },
  {
   "cell_type": "code",
   "execution_count": 3,
   "id": "2f08427c",
   "metadata": {},
   "outputs": [
    {
     "data": {
      "text/html": [
       "<div>\n",
       "<style scoped>\n",
       "    .dataframe tbody tr th:only-of-type {\n",
       "        vertical-align: middle;\n",
       "    }\n",
       "\n",
       "    .dataframe tbody tr th {\n",
       "        vertical-align: top;\n",
       "    }\n",
       "\n",
       "    .dataframe thead th {\n",
       "        text-align: right;\n",
       "    }\n",
       "</style>\n",
       "<table border=\"1\" class=\"dataframe\">\n",
       "  <thead>\n",
       "    <tr style=\"text-align: right;\">\n",
       "      <th></th>\n",
       "      <th>Blue</th>\n",
       "      <th>Green</th>\n",
       "      <th>Red</th>\n",
       "    </tr>\n",
       "  </thead>\n",
       "  <tbody>\n",
       "    <tr>\n",
       "      <th>0</th>\n",
       "      <td>0</td>\n",
       "      <td>0</td>\n",
       "      <td>1</td>\n",
       "    </tr>\n",
       "    <tr>\n",
       "      <th>1</th>\n",
       "      <td>0</td>\n",
       "      <td>1</td>\n",
       "      <td>0</td>\n",
       "    </tr>\n",
       "    <tr>\n",
       "      <th>2</th>\n",
       "      <td>1</td>\n",
       "      <td>0</td>\n",
       "      <td>0</td>\n",
       "    </tr>\n",
       "    <tr>\n",
       "      <th>3</th>\n",
       "      <td>0</td>\n",
       "      <td>0</td>\n",
       "      <td>1</td>\n",
       "    </tr>\n",
       "    <tr>\n",
       "      <th>4</th>\n",
       "      <td>0</td>\n",
       "      <td>1</td>\n",
       "      <td>0</td>\n",
       "    </tr>\n",
       "  </tbody>\n",
       "</table>\n",
       "</div>"
      ],
      "text/plain": [
       "   Blue  Green  Red\n",
       "0     0      0    1\n",
       "1     0      1    0\n",
       "2     1      0    0\n",
       "3     0      0    1\n",
       "4     0      1    0"
      ]
     },
     "execution_count": 3,
     "metadata": {},
     "output_type": "execute_result"
    }
   ],
   "source": [
    "encoded_df"
   ]
  },
  {
   "cell_type": "code",
   "execution_count": 4,
   "id": "708896d4",
   "metadata": {},
   "outputs": [],
   "source": [
    "ncoded_df = pd.get_dummies(df['Color'], prefix='color')"
   ]
  },
  {
   "cell_type": "code",
   "execution_count": 5,
   "id": "bd851f35",
   "metadata": {},
   "outputs": [
    {
     "data": {
      "text/html": [
       "<div>\n",
       "<style scoped>\n",
       "    .dataframe tbody tr th:only-of-type {\n",
       "        vertical-align: middle;\n",
       "    }\n",
       "\n",
       "    .dataframe tbody tr th {\n",
       "        vertical-align: top;\n",
       "    }\n",
       "\n",
       "    .dataframe thead th {\n",
       "        text-align: right;\n",
       "    }\n",
       "</style>\n",
       "<table border=\"1\" class=\"dataframe\">\n",
       "  <thead>\n",
       "    <tr style=\"text-align: right;\">\n",
       "      <th></th>\n",
       "      <th>color_Blue</th>\n",
       "      <th>color_Green</th>\n",
       "      <th>color_Red</th>\n",
       "    </tr>\n",
       "  </thead>\n",
       "  <tbody>\n",
       "    <tr>\n",
       "      <th>0</th>\n",
       "      <td>0</td>\n",
       "      <td>0</td>\n",
       "      <td>1</td>\n",
       "    </tr>\n",
       "    <tr>\n",
       "      <th>1</th>\n",
       "      <td>0</td>\n",
       "      <td>1</td>\n",
       "      <td>0</td>\n",
       "    </tr>\n",
       "    <tr>\n",
       "      <th>2</th>\n",
       "      <td>1</td>\n",
       "      <td>0</td>\n",
       "      <td>0</td>\n",
       "    </tr>\n",
       "    <tr>\n",
       "      <th>3</th>\n",
       "      <td>0</td>\n",
       "      <td>0</td>\n",
       "      <td>1</td>\n",
       "    </tr>\n",
       "    <tr>\n",
       "      <th>4</th>\n",
       "      <td>0</td>\n",
       "      <td>1</td>\n",
       "      <td>0</td>\n",
       "    </tr>\n",
       "  </tbody>\n",
       "</table>\n",
       "</div>"
      ],
      "text/plain": [
       "   color_Blue  color_Green  color_Red\n",
       "0           0            0          1\n",
       "1           0            1          0\n",
       "2           1            0          0\n",
       "3           0            0          1\n",
       "4           0            1          0"
      ]
     },
     "execution_count": 5,
     "metadata": {},
     "output_type": "execute_result"
    }
   ],
   "source": [
    "ncoded_df"
   ]
  },
  {
   "cell_type": "markdown",
   "id": "7ff7f7c9",
   "metadata": {},
   "source": [
    "# PREFIX_SEP PARAMETER"
   ]
  },
  {
   "cell_type": "markdown",
   "id": "4ec7c1f8",
   "metadata": {},
   "source": [
    "prefix_sep: If you set a prefix, this parameter allows you to specify a separator between the prefix and the \n",
    "category name. The default is '_'."
   ]
  },
  {
   "cell_type": "code",
   "execution_count": 6,
   "id": "70e7736a",
   "metadata": {},
   "outputs": [],
   "source": [
    "encoded_df = pd.get_dummies(df['Color'], prefix='Color', prefix_sep='_')\n"
   ]
  },
  {
   "cell_type": "code",
   "execution_count": 7,
   "id": "b2a70a6c",
   "metadata": {},
   "outputs": [
    {
     "data": {
      "text/html": [
       "<div>\n",
       "<style scoped>\n",
       "    .dataframe tbody tr th:only-of-type {\n",
       "        vertical-align: middle;\n",
       "    }\n",
       "\n",
       "    .dataframe tbody tr th {\n",
       "        vertical-align: top;\n",
       "    }\n",
       "\n",
       "    .dataframe thead th {\n",
       "        text-align: right;\n",
       "    }\n",
       "</style>\n",
       "<table border=\"1\" class=\"dataframe\">\n",
       "  <thead>\n",
       "    <tr style=\"text-align: right;\">\n",
       "      <th></th>\n",
       "      <th>Color_Blue</th>\n",
       "      <th>Color_Green</th>\n",
       "      <th>Color_Red</th>\n",
       "    </tr>\n",
       "  </thead>\n",
       "  <tbody>\n",
       "    <tr>\n",
       "      <th>0</th>\n",
       "      <td>0</td>\n",
       "      <td>0</td>\n",
       "      <td>1</td>\n",
       "    </tr>\n",
       "    <tr>\n",
       "      <th>1</th>\n",
       "      <td>0</td>\n",
       "      <td>1</td>\n",
       "      <td>0</td>\n",
       "    </tr>\n",
       "    <tr>\n",
       "      <th>2</th>\n",
       "      <td>1</td>\n",
       "      <td>0</td>\n",
       "      <td>0</td>\n",
       "    </tr>\n",
       "    <tr>\n",
       "      <th>3</th>\n",
       "      <td>0</td>\n",
       "      <td>0</td>\n",
       "      <td>1</td>\n",
       "    </tr>\n",
       "    <tr>\n",
       "      <th>4</th>\n",
       "      <td>0</td>\n",
       "      <td>1</td>\n",
       "      <td>0</td>\n",
       "    </tr>\n",
       "  </tbody>\n",
       "</table>\n",
       "</div>"
      ],
      "text/plain": [
       "   Color_Blue  Color_Green  Color_Red\n",
       "0           0            0          1\n",
       "1           0            1          0\n",
       "2           1            0          0\n",
       "3           0            0          1\n",
       "4           0            1          0"
      ]
     },
     "execution_count": 7,
     "metadata": {},
     "output_type": "execute_result"
    }
   ],
   "source": [
    "encoded_df"
   ]
  },
  {
   "cell_type": "markdown",
   "id": "2b6c1489",
   "metadata": {},
   "source": [
    "This would result in column names like 'Color-Red', 'Color-Green', etc."
   ]
  },
  {
   "cell_type": "markdown",
   "id": "0884bcbe",
   "metadata": {},
   "source": [
    "# DUMMY_NA PARAMETER"
   ]
  },
  {
   "cell_type": "markdown",
   "id": "2512db2c",
   "metadata": {},
   "source": [
    "dummy_na: By default, it's set to False, which means it won't create dummy columns for missing values. \n",
    "    If you set it to True, it will create a separate column for missing values and mark them as 1."
   ]
  },
  {
   "cell_type": "code",
   "execution_count": 8,
   "id": "002d0640",
   "metadata": {},
   "outputs": [],
   "source": [
    "data = {'Color': ['Red', 'Green', None, 'Red', 'Green']}\n",
    "df = pd.DataFrame(data)\n",
    "encoded_df = pd.get_dummies(df['Color'], dummy_na=True)\n"
   ]
  },
  {
   "cell_type": "code",
   "execution_count": 9,
   "id": "e50ea80b",
   "metadata": {},
   "outputs": [
    {
     "data": {
      "text/html": [
       "<div>\n",
       "<style scoped>\n",
       "    .dataframe tbody tr th:only-of-type {\n",
       "        vertical-align: middle;\n",
       "    }\n",
       "\n",
       "    .dataframe tbody tr th {\n",
       "        vertical-align: top;\n",
       "    }\n",
       "\n",
       "    .dataframe thead th {\n",
       "        text-align: right;\n",
       "    }\n",
       "</style>\n",
       "<table border=\"1\" class=\"dataframe\">\n",
       "  <thead>\n",
       "    <tr style=\"text-align: right;\">\n",
       "      <th></th>\n",
       "      <th>Green</th>\n",
       "      <th>Red</th>\n",
       "      <th>NaN</th>\n",
       "    </tr>\n",
       "  </thead>\n",
       "  <tbody>\n",
       "    <tr>\n",
       "      <th>0</th>\n",
       "      <td>0</td>\n",
       "      <td>1</td>\n",
       "      <td>0</td>\n",
       "    </tr>\n",
       "    <tr>\n",
       "      <th>1</th>\n",
       "      <td>1</td>\n",
       "      <td>0</td>\n",
       "      <td>0</td>\n",
       "    </tr>\n",
       "    <tr>\n",
       "      <th>2</th>\n",
       "      <td>0</td>\n",
       "      <td>0</td>\n",
       "      <td>1</td>\n",
       "    </tr>\n",
       "    <tr>\n",
       "      <th>3</th>\n",
       "      <td>0</td>\n",
       "      <td>1</td>\n",
       "      <td>0</td>\n",
       "    </tr>\n",
       "    <tr>\n",
       "      <th>4</th>\n",
       "      <td>1</td>\n",
       "      <td>0</td>\n",
       "      <td>0</td>\n",
       "    </tr>\n",
       "  </tbody>\n",
       "</table>\n",
       "</div>"
      ],
      "text/plain": [
       "   Green  Red  NaN\n",
       "0      0    1    0\n",
       "1      1    0    0\n",
       "2      0    0    1\n",
       "3      0    1    0\n",
       "4      1    0    0"
      ]
     },
     "execution_count": 9,
     "metadata": {},
     "output_type": "execute_result"
    }
   ],
   "source": [
    "encoded_df"
   ]
  },
  {
   "cell_type": "markdown",
   "id": "230021fb",
   "metadata": {},
   "source": [
    "This would create a column 'Color_nan' with 1 where the value is missing."
   ]
  },
  {
   "cell_type": "markdown",
   "id": "57324c63",
   "metadata": {},
   "source": [
    "# COLUMNS PARAMETER"
   ]
  },
  {
   "cell_type": "markdown",
   "id": "cf0d1553",
   "metadata": {},
   "source": [
    "columns: You can specify the subset of columns from your DataFrame to be one-hot encoded. This is useful when you only \n",
    "    want to encode specific categorical columns and leave others as they are."
   ]
  },
  {
   "cell_type": "code",
   "execution_count": 10,
   "id": "55ec81ce",
   "metadata": {},
   "outputs": [],
   "source": [
    "data = {'Color': ['Red', 'Green', 'Blue'], 'Size': ['Small', 'Medium', 'Large']}\n",
    "df = pd.DataFrame(data)\n",
    "encoded_df = pd.get_dummies(df, columns=['Color'])\n"
   ]
  },
  {
   "cell_type": "code",
   "execution_count": 11,
   "id": "f811b0a7",
   "metadata": {},
   "outputs": [
    {
     "data": {
      "text/html": [
       "<div>\n",
       "<style scoped>\n",
       "    .dataframe tbody tr th:only-of-type {\n",
       "        vertical-align: middle;\n",
       "    }\n",
       "\n",
       "    .dataframe tbody tr th {\n",
       "        vertical-align: top;\n",
       "    }\n",
       "\n",
       "    .dataframe thead th {\n",
       "        text-align: right;\n",
       "    }\n",
       "</style>\n",
       "<table border=\"1\" class=\"dataframe\">\n",
       "  <thead>\n",
       "    <tr style=\"text-align: right;\">\n",
       "      <th></th>\n",
       "      <th>Size</th>\n",
       "      <th>Color_Blue</th>\n",
       "      <th>Color_Green</th>\n",
       "      <th>Color_Red</th>\n",
       "    </tr>\n",
       "  </thead>\n",
       "  <tbody>\n",
       "    <tr>\n",
       "      <th>0</th>\n",
       "      <td>Small</td>\n",
       "      <td>0</td>\n",
       "      <td>0</td>\n",
       "      <td>1</td>\n",
       "    </tr>\n",
       "    <tr>\n",
       "      <th>1</th>\n",
       "      <td>Medium</td>\n",
       "      <td>0</td>\n",
       "      <td>1</td>\n",
       "      <td>0</td>\n",
       "    </tr>\n",
       "    <tr>\n",
       "      <th>2</th>\n",
       "      <td>Large</td>\n",
       "      <td>1</td>\n",
       "      <td>0</td>\n",
       "      <td>0</td>\n",
       "    </tr>\n",
       "  </tbody>\n",
       "</table>\n",
       "</div>"
      ],
      "text/plain": [
       "     Size  Color_Blue  Color_Green  Color_Red\n",
       "0   Small           0            0          1\n",
       "1  Medium           0            1          0\n",
       "2   Large           1            0          0"
      ]
     },
     "execution_count": 11,
     "metadata": {},
     "output_type": "execute_result"
    }
   ],
   "source": [
    "encoded_df"
   ]
  },
  {
   "cell_type": "markdown",
   "id": "43b77a2b",
   "metadata": {},
   "source": [
    "    Here, only the 'Color' column is one-hot encoded.\n",
    "\n",
    "Remember that one-hot encoding can increase the dimensionality of your dataset, which may not be suitable for all machine \n",
    "learning algorithms. It's essential to consider the impact on your model's performance and the potential need for dimensionality \n",
    "reduction techniques like PCA or feature selection when working with one-hot encoded data."
   ]
  },
  {
   "cell_type": "code",
   "execution_count": null,
   "id": "7d0d281d",
   "metadata": {},
   "outputs": [],
   "source": []
  }
 ],
 "metadata": {
  "kernelspec": {
   "display_name": "Python 3 (ipykernel)",
   "language": "python",
   "name": "python3"
  },
  "language_info": {
   "codemirror_mode": {
    "name": "ipython",
    "version": 3
   },
   "file_extension": ".py",
   "mimetype": "text/x-python",
   "name": "python",
   "nbconvert_exporter": "python",
   "pygments_lexer": "ipython3",
   "version": "3.9.7"
  }
 },
 "nbformat": 4,
 "nbformat_minor": 5
}
