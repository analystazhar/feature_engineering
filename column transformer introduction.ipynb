{
 "cells": [
  {
   "cell_type": "markdown",
   "id": "63064fc7",
   "metadata": {},
   "source": [
    "# COLUMN TRANSFORMER"
   ]
  },
  {
   "cell_type": "markdown",
   "id": "3041bf60",
   "metadata": {},
   "source": [
    "Certainly! The ColumnTransformer in scikit-learn is a powerful tool for applying different preprocessing steps to different \n",
    "subsets of columns (features) in your dataset. It's particularly useful when you have a dataset with mixed data types (e.g., \n",
    "numerical and categorical features) and you want to apply different transformations to each type of feature. Here's how to use \n",
    "it:"
   ]
  },
  {
   "cell_type": "markdown",
   "id": "3cda060c",
   "metadata": {},
   "source": [
    "# The ColumnTransformer in scikit-learn allows you to customize its behavior through several parameters. Here are the main parameters of the ColumnTransformer:"
   ]
  },
  {
   "cell_type": "markdown",
   "id": "2859847e",
   "metadata": {},
   "source": [
    "(1) transformers: This is the most important parameter and should be a list of transformers, where each transformer is a tuple \n",
    "                    containing:\n",
    "\n",
    "                A name or identifier (string)\n",
    "                A transformer object (e.g., a scaler, encoder, or any other preprocessing step)\n",
    "                A list of columns (features) to which the transformer should be applied."
   ]
  },
  {
   "cell_type": "markdown",
   "id": "641be92c",
   "metadata": {},
   "source": [
    "transformers = [\n",
    "    ('num', numeric_transformer, numeric_features),\n",
    "    ('cat', categorical_transformer, categorical_features)\n",
    "]\n"
   ]
  },
  {
   "cell_type": "markdown",
   "id": "f39b09b7",
   "metadata": {},
   "source": [
    "(2) remainder: This parameter specifies what to do with the remaining columns (those not listed in any of the transformers). \n",
    "               It can take one of three values:\n",
    "\n",
    "    'drop': Drop the remaining columns.\n",
    "    'passthrough': Leave the remaining columns unchanged.\n",
    "    A transformer object: Apply the specified transformer to the remaining columns."
   ]
  },
  {
   "cell_type": "markdown",
   "id": "f49d50ad",
   "metadata": {},
   "source": [
    "remainder = 'drop'  # Drop the remaining columns\n",
    "remainder = 'passthrough'  # Leave the remaining columns unchanged\n",
    "remainder = StandardScaler()  # Apply StandardScaler to the remaining columns\n"
   ]
  },
  {
   "cell_type": "code",
   "execution_count": null,
   "id": "84e13d1e",
   "metadata": {},
   "outputs": [],
   "source": []
  }
 ],
 "metadata": {
  "kernelspec": {
   "display_name": "Python 3 (ipykernel)",
   "language": "python",
   "name": "python3"
  },
  "language_info": {
   "codemirror_mode": {
    "name": "ipython",
    "version": 3
   },
   "file_extension": ".py",
   "mimetype": "text/x-python",
   "name": "python",
   "nbconvert_exporter": "python",
   "pygments_lexer": "ipython3",
   "version": "3.9.7"
  }
 },
 "nbformat": 4,
 "nbformat_minor": 5
}
